{
 "cells": [
  {
   "cell_type": "markdown",
   "metadata": {},
   "source": [
    "### Anomaly Detection Using Pycaret\n",
    "PyCaret’s Anomaly Detection Module is an unsupervised machine learning module that is used for identifying rare items, events or observations which raise suspicions by differing significantly from the majority of the data. Typically, the anomalous items will translate to some kind of problem such as bank fraud, a structural defect, medical problems or errors . This module provide several pre-processing features that prepares the data for modeling through setup function. This module has over 12 ready-to-use algorithms and several plots to analyze the results of trained models."
   ]
  },
  {
   "cell_type": "code",
   "execution_count": 1,
   "metadata": {},
   "outputs": [
    {
     "name": "stdout",
     "output_type": "stream",
     "text": [
      "Requirement already satisfied: jinja2==3.0.1 in c:\\users\\vishn\\anaconda3\\lib\\site-packages (3.0.1)\n",
      "Requirement already satisfied: MarkupSafe>=2.0 in c:\\users\\vishn\\anaconda3\\lib\\site-packages (from jinja2==3.0.1) (2.1.1)\n",
      "Note: you may need to restart the kernel to use updated packages.\n"
     ]
    }
   ],
   "source": [
    "pip install jinja2==3.0.1"
   ]
  },
  {
   "cell_type": "code",
   "execution_count": null,
   "metadata": {},
   "outputs": [],
   "source": [
    "pip uninstall jinja2"
   ]
  },
  {
   "cell_type": "code",
   "execution_count": null,
   "metadata": {},
   "outputs": [],
   "source": [
    "pip install python-flask"
   ]
  },
  {
   "cell_type": "code",
   "execution_count": 2,
   "metadata": {},
   "outputs": [
    {
     "name": "stdout",
     "output_type": "stream",
     "text": [
      "Requirement already satisfied: pycaret-ts-alpha in c:\\users\\vishn\\appdata\\roaming\\python\\python38\\site-packages (3.0.0.dev1649017462)\n",
      "Requirement already satisfied: category-encoders>=2.4.0 in c:\\users\\vishn\\appdata\\roaming\\python\\python38\\site-packages (from pycaret-ts-alpha) (2.5.0)\n",
      "Requirement already satisfied: pmdarima>=1.8.0 in c:\\users\\vishn\\appdata\\roaming\\python\\python38\\site-packages (from pycaret-ts-alpha) (2.0.0)\n",
      "Requirement already satisfied: yellowbrick>=1.4 in c:\\users\\vishn\\appdata\\roaming\\python\\python38\\site-packages (from pycaret-ts-alpha) (1.5)\n",
      "Requirement already satisfied: imbalanced-learn>=0.8.1 in c:\\users\\vishn\\appdata\\roaming\\python\\python38\\site-packages (from pycaret-ts-alpha) (0.9.1)\n",
      "Requirement already satisfied: ipython>=5.5.0 in c:\\users\\vishn\\anaconda3\\lib\\site-packages (from pycaret-ts-alpha) (7.22.0)\n",
      "Requirement already satisfied: numba~=0.55.0 in c:\\users\\vishn\\appdata\\roaming\\python\\python38\\site-packages (from pycaret-ts-alpha) (0.55.2)\n",
      "Requirement already satisfied: scikit-plot>=0.3.7 in c:\\users\\vishn\\appdata\\roaming\\python\\python38\\site-packages (from pycaret-ts-alpha) (0.3.7)\n",
      "Requirement already satisfied: joblib~=1.0.1 in c:\\users\\vishn\\anaconda3\\lib\\site-packages (from pycaret-ts-alpha) (1.0.1)\n",
      "Requirement already satisfied: kaleido>=0.2.1 in c:\\users\\vishn\\appdata\\roaming\\python\\python38\\site-packages (from pycaret-ts-alpha) (0.2.1)\n",
      "Requirement already satisfied: lightgbm>=3.0.0 in c:\\users\\vishn\\appdata\\roaming\\python\\python38\\site-packages (from pycaret-ts-alpha) (3.3.2)\n",
      "Requirement already satisfied: sktime==0.10.1 in c:\\users\\vishn\\appdata\\roaming\\python\\python38\\site-packages (from pycaret-ts-alpha) (0.10.1)\n",
      "Requirement already satisfied: scikit-learn>=1.0.2 in c:\\users\\vishn\\appdata\\roaming\\python\\python38\\site-packages (from pycaret-ts-alpha) (1.1.2)\n",
      "Requirement already satisfied: plotly>=5.0.0 in c:\\users\\vishn\\appdata\\roaming\\python\\python38\\site-packages (from pycaret-ts-alpha) (5.10.0)\n",
      "Requirement already satisfied: scipy~=1.7.3 in c:\\users\\vishn\\appdata\\roaming\\python\\python38\\site-packages (from pycaret-ts-alpha) (1.7.3)\n",
      "Requirement already satisfied: pandas<1.5.0,>=1.3.0 in c:\\users\\vishn\\appdata\\roaming\\python\\python38\\site-packages (from pycaret-ts-alpha) (1.4.3)\n",
      "Requirement already satisfied: pyod>=0.9.8 in c:\\users\\vishn\\appdata\\roaming\\python\\python38\\site-packages (from pycaret-ts-alpha) (1.0.4)\n",
      "Requirement already satisfied: statsmodels>=0.12.1 in c:\\users\\vishn\\appdata\\roaming\\python\\python38\\site-packages (from pycaret-ts-alpha) (0.13.2)\n",
      "Requirement already satisfied: numpy~=1.21 in c:\\users\\vishn\\anaconda3\\lib\\site-packages (from pycaret-ts-alpha) (1.21.6)\n",
      "Requirement already satisfied: matplotlib>=3.3.0 in c:\\users\\vishn\\anaconda3\\lib\\site-packages (from pycaret-ts-alpha) (3.3.4)\n",
      "Requirement already satisfied: tbats>=1.1.0 in c:\\users\\vishn\\appdata\\roaming\\python\\python38\\site-packages (from pycaret-ts-alpha) (1.1.0)\n",
      "Requirement already satisfied: deprecated>=1.2.13 in c:\\users\\vishn\\appdata\\roaming\\python\\python38\\site-packages (from sktime==0.10.1->pycaret-ts-alpha) (1.2.13)\n",
      "Requirement already satisfied: patsy>=0.5.1 in c:\\users\\vishn\\appdata\\roaming\\python\\python38\\site-packages (from category-encoders>=2.4.0->pycaret-ts-alpha) (0.5.2)\n",
      "Requirement already satisfied: wrapt<2,>=1.10 in c:\\users\\vishn\\anaconda3\\lib\\site-packages (from deprecated>=1.2.13->sktime==0.10.1->pycaret-ts-alpha) (1.12.1)\n",
      "Requirement already satisfied: threadpoolctl>=2.0.0 in c:\\users\\vishn\\anaconda3\\lib\\site-packages (from imbalanced-learn>=0.8.1->pycaret-ts-alpha) (2.1.0)\n",
      "Requirement already satisfied: pygments in c:\\users\\vishn\\anaconda3\\lib\\site-packages (from ipython>=5.5.0->pycaret-ts-alpha) (2.8.1)\n",
      "Requirement already satisfied: prompt-toolkit!=3.0.0,!=3.0.1,<3.1.0,>=2.0.0 in c:\\users\\vishn\\anaconda3\\lib\\site-packages (from ipython>=5.5.0->pycaret-ts-alpha) (3.0.17)\n",
      "Requirement already satisfied: setuptools>=18.5 in c:\\users\\vishn\\anaconda3\\lib\\site-packages (from ipython>=5.5.0->pycaret-ts-alpha) (52.0.0.post20210125)\n",
      "Requirement already satisfied: traitlets>=4.2 in c:\\users\\vishn\\anaconda3\\lib\\site-packages (from ipython>=5.5.0->pycaret-ts-alpha) (5.0.5)\n",
      "Requirement already satisfied: jedi>=0.16 in c:\\users\\vishn\\anaconda3\\lib\\site-packages (from ipython>=5.5.0->pycaret-ts-alpha) (0.17.2)\n",
      "Requirement already satisfied: colorama in c:\\users\\vishn\\anaconda3\\lib\\site-packages (from ipython>=5.5.0->pycaret-ts-alpha) (0.4.3)\n",
      "Requirement already satisfied: backcall in c:\\users\\vishn\\anaconda3\\lib\\site-packages (from ipython>=5.5.0->pycaret-ts-alpha) (0.2.0)\n",
      "Requirement already satisfied: pickleshare in c:\\users\\vishn\\anaconda3\\lib\\site-packages (from ipython>=5.5.0->pycaret-ts-alpha) (0.7.5)\n",
      "Requirement already satisfied: decorator in c:\\users\\vishn\\anaconda3\\lib\\site-packages (from ipython>=5.5.0->pycaret-ts-alpha) (5.0.6)\n",
      "Requirement already satisfied: parso<0.8.0,>=0.7.0 in c:\\users\\vishn\\anaconda3\\lib\\site-packages (from jedi>=0.16->ipython>=5.5.0->pycaret-ts-alpha) (0.7.0)\n",
      "Requirement already satisfied: wheel in c:\\users\\vishn\\anaconda3\\lib\\site-packages (from lightgbm>=3.0.0->pycaret-ts-alpha) (0.36.2)\n",
      "Requirement already satisfied: python-dateutil>=2.1 in c:\\users\\vishn\\anaconda3\\lib\\site-packages (from matplotlib>=3.3.0->pycaret-ts-alpha) (2.8.1)\n",
      "Requirement already satisfied: cycler>=0.10 in c:\\users\\vishn\\anaconda3\\lib\\site-packages (from matplotlib>=3.3.0->pycaret-ts-alpha) (0.10.0)\n",
      "Requirement already satisfied: pyparsing!=2.0.4,!=2.1.2,!=2.1.6,>=2.0.3 in c:\\users\\vishn\\anaconda3\\lib\\site-packages (from matplotlib>=3.3.0->pycaret-ts-alpha) (2.4.7)\n",
      "Requirement already satisfied: pillow>=6.2.0 in c:\\users\\vishn\\anaconda3\\lib\\site-packages (from matplotlib>=3.3.0->pycaret-ts-alpha) (7.0.0)\n",
      "Requirement already satisfied: kiwisolver>=1.0.1 in c:\\users\\vishn\\anaconda3\\lib\\site-packages (from matplotlib>=3.3.0->pycaret-ts-alpha) (1.3.1)\n",
      "Requirement already satisfied: six in c:\\users\\vishn\\anaconda3\\lib\\site-packages (from cycler>=0.10->matplotlib>=3.3.0->pycaret-ts-alpha) (1.15.0)\n",
      "Requirement already satisfied: llvmlite<0.39,>=0.38.0rc1 in c:\\users\\vishn\\appdata\\roaming\\python\\python38\\site-packages (from numba~=0.55.0->pycaret-ts-alpha) (0.38.1)\n",
      "Requirement already satisfied: pytz>=2020.1 in c:\\users\\vishn\\anaconda3\\lib\\site-packages (from pandas<1.5.0,>=1.3.0->pycaret-ts-alpha) (2021.1)\n",
      "Requirement already satisfied: tenacity>=6.2.0 in c:\\users\\vishn\\appdata\\roaming\\python\\python38\\site-packages (from plotly>=5.0.0->pycaret-ts-alpha) (8.0.1)\n",
      "Requirement already satisfied: Cython!=0.29.18,!=0.29.31,>=0.29 in c:\\users\\vishn\\anaconda3\\lib\\site-packages (from pmdarima>=1.8.0->pycaret-ts-alpha) (0.29.21)\n",
      "Requirement already satisfied: urllib3 in c:\\users\\vishn\\anaconda3\\lib\\site-packages (from pmdarima>=1.8.0->pycaret-ts-alpha) (1.25.10)\n",
      "Requirement already satisfied: wcwidth in c:\\users\\vishn\\anaconda3\\lib\\site-packages (from prompt-toolkit!=3.0.0,!=3.0.1,<3.1.0,>=2.0.0->ipython>=5.5.0->pycaret-ts-alpha) (0.2.5)\n",
      "Requirement already satisfied: packaging>=21.3 in c:\\users\\vishn\\appdata\\roaming\\python\\python38\\site-packages (from statsmodels>=0.12.1->pycaret-ts-alpha) (21.3)\n",
      "Requirement already satisfied: ipython-genutils in c:\\users\\vishn\\anaconda3\\lib\\site-packages (from traitlets>=4.2->ipython>=5.5.0->pycaret-ts-alpha) (0.2.0)\n",
      "Note: you may need to restart the kernel to use updated packages.\n"
     ]
    }
   ],
   "source": [
    "pip install pycaret-ts-alpha --user"
   ]
  },
  {
   "cell_type": "code",
   "execution_count": 3,
   "metadata": {},
   "outputs": [],
   "source": [
    "#import the dataset from pycaret repository\n",
    "from pycaret.datasets import get_data"
   ]
  },
  {
   "cell_type": "code",
   "execution_count": 4,
   "metadata": {},
   "outputs": [
    {
     "data": {
      "text/html": [
       "<div>\n",
       "<style scoped>\n",
       "    .dataframe tbody tr th:only-of-type {\n",
       "        vertical-align: middle;\n",
       "    }\n",
       "\n",
       "    .dataframe tbody tr th {\n",
       "        vertical-align: top;\n",
       "    }\n",
       "\n",
       "    .dataframe thead th {\n",
       "        text-align: right;\n",
       "    }\n",
       "</style>\n",
       "<table border=\"1\" class=\"dataframe\">\n",
       "  <thead>\n",
       "    <tr style=\"text-align: right;\">\n",
       "      <th></th>\n",
       "      <th>name</th>\n",
       "      <th>height</th>\n",
       "    </tr>\n",
       "  </thead>\n",
       "  <tbody>\n",
       "    <tr>\n",
       "      <th>0</th>\n",
       "      <td>mohan</td>\n",
       "      <td>1.2</td>\n",
       "    </tr>\n",
       "    <tr>\n",
       "      <th>1</th>\n",
       "      <td>maria</td>\n",
       "      <td>2.3</td>\n",
       "    </tr>\n",
       "    <tr>\n",
       "      <th>2</th>\n",
       "      <td>sakib</td>\n",
       "      <td>4.9</td>\n",
       "    </tr>\n",
       "    <tr>\n",
       "      <th>3</th>\n",
       "      <td>tao</td>\n",
       "      <td>5.1</td>\n",
       "    </tr>\n",
       "    <tr>\n",
       "      <th>4</th>\n",
       "      <td>virat</td>\n",
       "      <td>5.2</td>\n",
       "    </tr>\n",
       "  </tbody>\n",
       "</table>\n",
       "</div>"
      ],
      "text/plain": [
       "    name  height\n",
       "0  mohan     1.2\n",
       "1  maria     2.3\n",
       "2  sakib     4.9\n",
       "3    tao     5.1\n",
       "4  virat     5.2"
      ]
     },
     "metadata": {},
     "output_type": "display_data"
    }
   ],
   "source": [
    "anomaly = get_data('heights')"
   ]
  },
  {
   "cell_type": "code",
   "execution_count": null,
   "metadata": {},
   "outputs": [],
   "source": [
    "pip uninstall scikit-learn"
   ]
  },
  {
   "cell_type": "code",
   "execution_count": null,
   "metadata": {},
   "outputs": [],
   "source": [
    "pip install scikit-learn==0.24.1"
   ]
  },
  {
   "cell_type": "code",
   "execution_count": 13,
   "metadata": {},
   "outputs": [
    {
     "ename": "ImportError",
     "evalue": "cannot import name '_check_param_grid' from 'sklearn.model_selection._search' (C:\\Users\\vishn\\AppData\\Roaming\\Python\\Python38\\site-packages\\sklearn\\model_selection\\_search.py)",
     "output_type": "error",
     "traceback": [
      "\u001b[1;31m---------------------------------------------------------------------------\u001b[0m",
      "\u001b[1;31mImportError\u001b[0m                               Traceback (most recent call last)",
      "\u001b[1;32m<ipython-input-13-9a93ed28a12d>\u001b[0m in \u001b[0;36m<module>\u001b[1;34m\u001b[0m\n\u001b[0;32m      1\u001b[0m \u001b[1;31m#import anomaly detection module\u001b[0m\u001b[1;33m\u001b[0m\u001b[1;33m\u001b[0m\u001b[1;33m\u001b[0m\u001b[0m\n\u001b[1;32m----> 2\u001b[1;33m \u001b[1;32mfrom\u001b[0m \u001b[0mpycaret\u001b[0m\u001b[1;33m.\u001b[0m\u001b[0manomaly\u001b[0m \u001b[1;32mimport\u001b[0m \u001b[1;33m*\u001b[0m\u001b[1;33m\u001b[0m\u001b[1;33m\u001b[0m\u001b[0m\n\u001b[0m",
      "\u001b[1;32m~\\AppData\\Roaming\\Python\\Python38\\site-packages\\pycaret\\anomaly\\__init__.py\u001b[0m in \u001b[0;36m<module>\u001b[1;34m\u001b[0m\n\u001b[1;32m----> 1\u001b[1;33m \u001b[1;32mfrom\u001b[0m \u001b[0mpycaret\u001b[0m\u001b[1;33m.\u001b[0m\u001b[0manomaly\u001b[0m\u001b[1;33m.\u001b[0m\u001b[0moop\u001b[0m \u001b[1;32mimport\u001b[0m \u001b[0mAnomalyExperiment\u001b[0m\u001b[1;33m\u001b[0m\u001b[1;33m\u001b[0m\u001b[0m\n\u001b[0m\u001b[0;32m      2\u001b[0m from pycaret.anomaly.functional import (\n\u001b[0;32m      3\u001b[0m     \u001b[0msetup\u001b[0m\u001b[1;33m,\u001b[0m\u001b[1;33m\u001b[0m\u001b[1;33m\u001b[0m\u001b[0m\n\u001b[0;32m      4\u001b[0m     \u001b[0mcreate_model\u001b[0m\u001b[1;33m,\u001b[0m\u001b[1;33m\u001b[0m\u001b[1;33m\u001b[0m\u001b[0m\n\u001b[0;32m      5\u001b[0m     \u001b[0massign_model\u001b[0m\u001b[1;33m,\u001b[0m\u001b[1;33m\u001b[0m\u001b[1;33m\u001b[0m\u001b[0m\n",
      "\u001b[1;32m~\\AppData\\Roaming\\Python\\Python38\\site-packages\\pycaret\\anomaly\\oop.py\u001b[0m in \u001b[0;36m<module>\u001b[1;34m\u001b[0m\n\u001b[0;32m      2\u001b[0m     \u001b[0mMLUsecase\u001b[0m\u001b[1;33m,\u001b[0m\u001b[1;33m\u001b[0m\u001b[1;33m\u001b[0m\u001b[0m\n\u001b[0;32m      3\u001b[0m )\n\u001b[1;32m----> 4\u001b[1;33m from pycaret.internal.pycaret_experiment.unsupervised_experiment import (\n\u001b[0m\u001b[0;32m      5\u001b[0m     \u001b[0m_UnsupervisedExperiment\u001b[0m\u001b[1;33m,\u001b[0m\u001b[1;33m\u001b[0m\u001b[1;33m\u001b[0m\u001b[0m\n\u001b[0;32m      6\u001b[0m )\n",
      "\u001b[1;32m~\\AppData\\Roaming\\Python\\Python38\\site-packages\\pycaret\\internal\\pycaret_experiment\\unsupervised_experiment.py\u001b[0m in \u001b[0;36m<module>\u001b[1;34m\u001b[0m\n\u001b[0;32m     18\u001b[0m \u001b[1;32mfrom\u001b[0m \u001b[0mpycaret\u001b[0m\u001b[1;33m.\u001b[0m\u001b[0minternal\u001b[0m\u001b[1;33m.\u001b[0m\u001b[0mpreprocess\u001b[0m\u001b[1;33m.\u001b[0m\u001b[0mpreprocessor\u001b[0m \u001b[1;32mimport\u001b[0m \u001b[0mPreprocessor\u001b[0m\u001b[1;33m\u001b[0m\u001b[1;33m\u001b[0m\u001b[0m\n\u001b[0;32m     19\u001b[0m \u001b[1;32mfrom\u001b[0m \u001b[0mpycaret\u001b[0m\u001b[1;33m.\u001b[0m\u001b[0minternal\u001b[0m\u001b[1;33m.\u001b[0m\u001b[0mpycaret_experiment\u001b[0m\u001b[1;33m.\u001b[0m\u001b[0mutils\u001b[0m \u001b[1;32mimport\u001b[0m \u001b[0mhighlight_setup\u001b[0m\u001b[1;33m,\u001b[0m \u001b[0mMLUsecase\u001b[0m\u001b[1;33m\u001b[0m\u001b[1;33m\u001b[0m\u001b[0m\n\u001b[1;32m---> 20\u001b[1;33m \u001b[1;32mfrom\u001b[0m \u001b[0mpycaret\u001b[0m\u001b[1;33m.\u001b[0m\u001b[0minternal\u001b[0m\u001b[1;33m.\u001b[0m\u001b[0mpycaret_experiment\u001b[0m\u001b[1;33m.\u001b[0m\u001b[0mtabular_experiment\u001b[0m \u001b[1;32mimport\u001b[0m \u001b[0m_TabularExperiment\u001b[0m\u001b[1;33m\u001b[0m\u001b[1;33m\u001b[0m\u001b[0m\n\u001b[0m\u001b[0;32m     21\u001b[0m from pycaret.internal.pipeline import (\n\u001b[0;32m     22\u001b[0m     \u001b[0mPipeline\u001b[0m \u001b[1;32mas\u001b[0m \u001b[0mInternalPipeline\u001b[0m\u001b[1;33m,\u001b[0m\u001b[1;33m\u001b[0m\u001b[1;33m\u001b[0m\u001b[0m\n",
      "\u001b[1;32m~\\AppData\\Roaming\\Python\\Python38\\site-packages\\pycaret\\internal\\pycaret_experiment\\tabular_experiment.py\u001b[0m in \u001b[0;36m<module>\u001b[1;34m\u001b[0m\n\u001b[0;32m     16\u001b[0m \u001b[1;32mimport\u001b[0m \u001b[0mpycaret\u001b[0m\u001b[1;33m.\u001b[0m\u001b[0minternal\u001b[0m\u001b[1;33m.\u001b[0m\u001b[0mpatches\u001b[0m\u001b[1;33m.\u001b[0m\u001b[0msklearn\u001b[0m\u001b[1;33m\u001b[0m\u001b[1;33m\u001b[0m\u001b[0m\n\u001b[0;32m     17\u001b[0m \u001b[1;32mimport\u001b[0m \u001b[0mpycaret\u001b[0m\u001b[1;33m.\u001b[0m\u001b[0minternal\u001b[0m\u001b[1;33m.\u001b[0m\u001b[0mpatches\u001b[0m\u001b[1;33m.\u001b[0m\u001b[0myellowbrick\u001b[0m\u001b[1;33m\u001b[0m\u001b[1;33m\u001b[0m\u001b[0m\n\u001b[1;32m---> 18\u001b[1;33m \u001b[1;32mimport\u001b[0m \u001b[0mpycaret\u001b[0m\u001b[1;33m.\u001b[0m\u001b[0minternal\u001b[0m\u001b[1;33m.\u001b[0m\u001b[0mpersistence\u001b[0m\u001b[1;33m\u001b[0m\u001b[1;33m\u001b[0m\u001b[0m\n\u001b[0m\u001b[0;32m     19\u001b[0m \u001b[1;32mimport\u001b[0m \u001b[0mpycaret\u001b[0m\u001b[1;33m.\u001b[0m\u001b[0minternal\u001b[0m\u001b[1;33m.\u001b[0m\u001b[0mpreprocess\u001b[0m\u001b[1;33m\u001b[0m\u001b[1;33m\u001b[0m\u001b[0m\n\u001b[0;32m     20\u001b[0m \u001b[1;32mimport\u001b[0m \u001b[0mscikitplot\u001b[0m \u001b[1;32mas\u001b[0m \u001b[0mskplt\u001b[0m  \u001b[1;31m# type: ignore\u001b[0m\u001b[1;33m\u001b[0m\u001b[1;33m\u001b[0m\u001b[0m\n",
      "\u001b[1;32m~\\AppData\\Roaming\\Python\\Python38\\site-packages\\pycaret\\internal\\persistence.py\u001b[0m in \u001b[0;36m<module>\u001b[1;34m\u001b[0m\n\u001b[0;32m      7\u001b[0m \u001b[1;32mfrom\u001b[0m \u001b[0mpycaret\u001b[0m\u001b[1;33m.\u001b[0m\u001b[0minternal\u001b[0m\u001b[1;33m.\u001b[0m\u001b[0mutils\u001b[0m \u001b[1;32mimport\u001b[0m \u001b[0mget_logger\u001b[0m\u001b[1;33m\u001b[0m\u001b[1;33m\u001b[0m\u001b[0m\n\u001b[0;32m      8\u001b[0m \u001b[1;33m\u001b[0m\u001b[0m\n\u001b[1;32m----> 9\u001b[1;33m \u001b[1;32mfrom\u001b[0m \u001b[0mpycaret\u001b[0m\u001b[1;33m.\u001b[0m\u001b[0mutils\u001b[0m\u001b[1;33m.\u001b[0m\u001b[0mtime_series\u001b[0m\u001b[1;33m.\u001b[0m\u001b[0mforecasting\u001b[0m\u001b[1;33m.\u001b[0m\u001b[0mpipeline\u001b[0m \u001b[1;32mimport\u001b[0m \u001b[0m_add_model_to_pipeline\u001b[0m\u001b[1;33m\u001b[0m\u001b[1;33m\u001b[0m\u001b[0m\n\u001b[0m\u001b[0;32m     10\u001b[0m \u001b[1;32mfrom\u001b[0m \u001b[0mpycaret\u001b[0m\u001b[1;33m.\u001b[0m\u001b[0minternal\u001b[0m\u001b[1;33m.\u001b[0m\u001b[0mpycaret_experiment\u001b[0m\u001b[1;33m.\u001b[0m\u001b[0mutils\u001b[0m \u001b[1;32mimport\u001b[0m \u001b[0mMLUsecase\u001b[0m\u001b[1;33m\u001b[0m\u001b[1;33m\u001b[0m\u001b[0m\n\u001b[0;32m     11\u001b[0m \u001b[1;33m\u001b[0m\u001b[0m\n",
      "\u001b[1;32m~\\AppData\\Roaming\\Python\\Python38\\site-packages\\pycaret\\utils\\time_series\\forecasting\\pipeline.py\u001b[0m in \u001b[0;36m<module>\u001b[1;34m\u001b[0m\n\u001b[0;32m      1\u001b[0m \u001b[1;32mfrom\u001b[0m \u001b[0mcopy\u001b[0m \u001b[1;32mimport\u001b[0m \u001b[0mdeepcopy\u001b[0m\u001b[1;33m\u001b[0m\u001b[1;33m\u001b[0m\u001b[0m\n\u001b[0;32m      2\u001b[0m \u001b[1;32mfrom\u001b[0m \u001b[0msktime\u001b[0m\u001b[1;33m.\u001b[0m\u001b[0mforecasting\u001b[0m\u001b[1;33m.\u001b[0m\u001b[0mbase\u001b[0m \u001b[1;32mimport\u001b[0m \u001b[0mBaseForecaster\u001b[0m\u001b[1;33m\u001b[0m\u001b[1;33m\u001b[0m\u001b[0m\n\u001b[1;32m----> 3\u001b[1;33m \u001b[1;32mfrom\u001b[0m \u001b[0msktime\u001b[0m\u001b[1;33m.\u001b[0m\u001b[0mforecasting\u001b[0m\u001b[1;33m.\u001b[0m\u001b[0mcompose\u001b[0m \u001b[1;32mimport\u001b[0m \u001b[0mForecastingPipeline\u001b[0m\u001b[1;33m\u001b[0m\u001b[1;33m\u001b[0m\u001b[0m\n\u001b[0m\u001b[0;32m      4\u001b[0m \u001b[1;32mfrom\u001b[0m \u001b[0msktime\u001b[0m\u001b[1;33m.\u001b[0m\u001b[0mforecasting\u001b[0m\u001b[1;33m.\u001b[0m\u001b[0mcompose\u001b[0m \u001b[1;32mimport\u001b[0m \u001b[0mTransformedTargetForecaster\u001b[0m\u001b[1;33m\u001b[0m\u001b[1;33m\u001b[0m\u001b[0m\n\u001b[0;32m      5\u001b[0m \u001b[1;33m\u001b[0m\u001b[0m\n",
      "\u001b[1;32m~\\AppData\\Roaming\\Python\\Python38\\site-packages\\sktime\\forecasting\\compose\\__init__.py\u001b[0m in \u001b[0;36m<module>\u001b[1;34m\u001b[0m\n\u001b[0;32m     26\u001b[0m \u001b[1;33m\u001b[0m\u001b[0m\n\u001b[0;32m     27\u001b[0m \u001b[1;32mfrom\u001b[0m \u001b[0msktime\u001b[0m\u001b[1;33m.\u001b[0m\u001b[0mforecasting\u001b[0m\u001b[1;33m.\u001b[0m\u001b[0mcompose\u001b[0m\u001b[1;33m.\u001b[0m\u001b[0m_column_ensemble\u001b[0m \u001b[1;32mimport\u001b[0m \u001b[0mColumnEnsembleForecaster\u001b[0m\u001b[1;33m\u001b[0m\u001b[1;33m\u001b[0m\u001b[0m\n\u001b[1;32m---> 28\u001b[1;33m from sktime.forecasting.compose._ensemble import (\n\u001b[0m\u001b[0;32m     29\u001b[0m     \u001b[0mAutoEnsembleForecaster\u001b[0m\u001b[1;33m,\u001b[0m\u001b[1;33m\u001b[0m\u001b[1;33m\u001b[0m\u001b[0m\n\u001b[0;32m     30\u001b[0m     \u001b[0mEnsembleForecaster\u001b[0m\u001b[1;33m,\u001b[0m\u001b[1;33m\u001b[0m\u001b[1;33m\u001b[0m\u001b[0m\n",
      "\u001b[1;32m~\\AppData\\Roaming\\Python\\Python38\\site-packages\\sktime\\forecasting\\compose\\_ensemble.py\u001b[0m in \u001b[0;36m<module>\u001b[1;34m\u001b[0m\n\u001b[0;32m     19\u001b[0m \u001b[1;32mfrom\u001b[0m \u001b[0msktime\u001b[0m\u001b[1;33m.\u001b[0m\u001b[0mforecasting\u001b[0m\u001b[1;33m.\u001b[0m\u001b[0mbase\u001b[0m\u001b[1;33m.\u001b[0m\u001b[0m_base\u001b[0m \u001b[1;32mimport\u001b[0m \u001b[0mDEFAULT_ALPHA\u001b[0m\u001b[1;33m\u001b[0m\u001b[1;33m\u001b[0m\u001b[0m\n\u001b[0;32m     20\u001b[0m \u001b[1;32mfrom\u001b[0m \u001b[0msktime\u001b[0m\u001b[1;33m.\u001b[0m\u001b[0mforecasting\u001b[0m\u001b[1;33m.\u001b[0m\u001b[0mbase\u001b[0m\u001b[1;33m.\u001b[0m\u001b[0m_meta\u001b[0m \u001b[1;32mimport\u001b[0m \u001b[0m_HeterogenousEnsembleForecaster\u001b[0m\u001b[1;33m\u001b[0m\u001b[1;33m\u001b[0m\u001b[0m\n\u001b[1;32m---> 21\u001b[1;33m \u001b[1;32mfrom\u001b[0m \u001b[0msktime\u001b[0m\u001b[1;33m.\u001b[0m\u001b[0mforecasting\u001b[0m\u001b[1;33m.\u001b[0m\u001b[0mmodel_selection\u001b[0m \u001b[1;32mimport\u001b[0m \u001b[0mtemporal_train_test_split\u001b[0m\u001b[1;33m\u001b[0m\u001b[1;33m\u001b[0m\u001b[0m\n\u001b[0m\u001b[0;32m     22\u001b[0m from sktime.utils.stats import (\n\u001b[0;32m     23\u001b[0m     \u001b[0m_weighted_geometric_mean\u001b[0m\u001b[1;33m,\u001b[0m\u001b[1;33m\u001b[0m\u001b[1;33m\u001b[0m\u001b[0m\n",
      "\u001b[1;32m~\\AppData\\Roaming\\Python\\Python38\\site-packages\\sktime\\forecasting\\model_selection\\__init__.py\u001b[0m in \u001b[0;36m<module>\u001b[1;34m\u001b[0m\n\u001b[0;32m     20\u001b[0m \u001b[1;32mfrom\u001b[0m \u001b[0msktime\u001b[0m\u001b[1;33m.\u001b[0m\u001b[0mforecasting\u001b[0m\u001b[1;33m.\u001b[0m\u001b[0mmodel_selection\u001b[0m\u001b[1;33m.\u001b[0m\u001b[0m_split\u001b[0m \u001b[1;32mimport\u001b[0m \u001b[0mSlidingWindowSplitter\u001b[0m\u001b[1;33m\u001b[0m\u001b[1;33m\u001b[0m\u001b[0m\n\u001b[0;32m     21\u001b[0m \u001b[1;32mfrom\u001b[0m \u001b[0msktime\u001b[0m\u001b[1;33m.\u001b[0m\u001b[0mforecasting\u001b[0m\u001b[1;33m.\u001b[0m\u001b[0mmodel_selection\u001b[0m\u001b[1;33m.\u001b[0m\u001b[0m_split\u001b[0m \u001b[1;32mimport\u001b[0m \u001b[0mtemporal_train_test_split\u001b[0m\u001b[1;33m\u001b[0m\u001b[1;33m\u001b[0m\u001b[0m\n\u001b[1;32m---> 22\u001b[1;33m \u001b[1;32mfrom\u001b[0m \u001b[0msktime\u001b[0m\u001b[1;33m.\u001b[0m\u001b[0mforecasting\u001b[0m\u001b[1;33m.\u001b[0m\u001b[0mmodel_selection\u001b[0m\u001b[1;33m.\u001b[0m\u001b[0m_tune\u001b[0m \u001b[1;32mimport\u001b[0m \u001b[0mForecastingGridSearchCV\u001b[0m\u001b[1;33m\u001b[0m\u001b[1;33m\u001b[0m\u001b[0m\n\u001b[0m\u001b[0;32m     23\u001b[0m \u001b[1;32mfrom\u001b[0m \u001b[0msktime\u001b[0m\u001b[1;33m.\u001b[0m\u001b[0mforecasting\u001b[0m\u001b[1;33m.\u001b[0m\u001b[0mmodel_selection\u001b[0m\u001b[1;33m.\u001b[0m\u001b[0m_tune\u001b[0m \u001b[1;32mimport\u001b[0m \u001b[0mForecastingRandomizedSearchCV\u001b[0m\u001b[1;33m\u001b[0m\u001b[1;33m\u001b[0m\u001b[0m\n",
      "\u001b[1;32m~\\AppData\\Roaming\\Python\\Python38\\site-packages\\sktime\\forecasting\\model_selection\\_tune.py\u001b[0m in \u001b[0;36m<module>\u001b[1;34m\u001b[0m\n\u001b[0;32m     11\u001b[0m \u001b[1;32mfrom\u001b[0m \u001b[0msklearn\u001b[0m\u001b[1;33m.\u001b[0m\u001b[0mbase\u001b[0m \u001b[1;32mimport\u001b[0m \u001b[0mclone\u001b[0m\u001b[1;33m\u001b[0m\u001b[1;33m\u001b[0m\u001b[0m\n\u001b[0;32m     12\u001b[0m \u001b[1;32mfrom\u001b[0m \u001b[0msklearn\u001b[0m\u001b[1;33m.\u001b[0m\u001b[0mmodel_selection\u001b[0m \u001b[1;32mimport\u001b[0m \u001b[0mParameterGrid\u001b[0m\u001b[1;33m,\u001b[0m \u001b[0mParameterSampler\u001b[0m\u001b[1;33m,\u001b[0m \u001b[0mcheck_cv\u001b[0m\u001b[1;33m\u001b[0m\u001b[1;33m\u001b[0m\u001b[0m\n\u001b[1;32m---> 13\u001b[1;33m \u001b[1;32mfrom\u001b[0m \u001b[0msklearn\u001b[0m\u001b[1;33m.\u001b[0m\u001b[0mmodel_selection\u001b[0m\u001b[1;33m.\u001b[0m\u001b[0m_search\u001b[0m \u001b[1;32mimport\u001b[0m \u001b[0m_check_param_grid\u001b[0m\u001b[1;33m\u001b[0m\u001b[1;33m\u001b[0m\u001b[0m\n\u001b[0m\u001b[0;32m     14\u001b[0m \u001b[1;32mfrom\u001b[0m \u001b[0msklearn\u001b[0m\u001b[1;33m.\u001b[0m\u001b[0mutils\u001b[0m\u001b[1;33m.\u001b[0m\u001b[0mmetaestimators\u001b[0m \u001b[1;32mimport\u001b[0m \u001b[0mif_delegate_has_method\u001b[0m\u001b[1;33m\u001b[0m\u001b[1;33m\u001b[0m\u001b[0m\n\u001b[0;32m     15\u001b[0m \u001b[1;33m\u001b[0m\u001b[0m\n",
      "\u001b[1;31mImportError\u001b[0m: cannot import name '_check_param_grid' from 'sklearn.model_selection._search' (C:\\Users\\vishn\\AppData\\Roaming\\Python\\Python38\\site-packages\\sklearn\\model_selection\\_search.py)"
     ]
    }
   ],
   "source": [
    "#import anomaly detection module\n",
    "from pycaret.anomaly import *"
   ]
  },
  {
   "cell_type": "code",
   "execution_count": 6,
   "metadata": {},
   "outputs": [
    {
     "ename": "NameError",
     "evalue": "name 'setup' is not defined",
     "output_type": "error",
     "traceback": [
      "\u001b[1;31m---------------------------------------------------------------------------\u001b[0m",
      "\u001b[1;31mNameError\u001b[0m                                 Traceback (most recent call last)",
      "\u001b[1;32m<ipython-input-6-f44adb482244>\u001b[0m in \u001b[0;36m<module>\u001b[1;34m\u001b[0m\n\u001b[0;32m      1\u001b[0m \u001b[1;31m#intialize the setup\u001b[0m\u001b[1;33m\u001b[0m\u001b[1;33m\u001b[0m\u001b[1;33m\u001b[0m\u001b[0m\n\u001b[1;32m----> 2\u001b[1;33m \u001b[0mexp_ano\u001b[0m \u001b[1;33m=\u001b[0m \u001b[0msetup\u001b[0m\u001b[1;33m(\u001b[0m\u001b[0manomaly\u001b[0m\u001b[1;33m)\u001b[0m\u001b[1;33m\u001b[0m\u001b[1;33m\u001b[0m\u001b[0m\n\u001b[0m",
      "\u001b[1;31mNameError\u001b[0m: name 'setup' is not defined"
     ]
    }
   ],
   "source": [
    "#intialize the setup\n",
    "exp_ano = setup(anomaly)"
   ]
  },
  {
   "cell_type": "code",
   "execution_count": null,
   "metadata": {},
   "outputs": [],
   "source": [
    "anomaly"
   ]
  },
  {
   "cell_type": "code",
   "execution_count": null,
   "metadata": {},
   "outputs": [],
   "source": [
    "## creating a model\n",
    "iforest=create_model('iforest')"
   ]
  },
  {
   "cell_type": "code",
   "execution_count": null,
   "metadata": {
    "scrolled": true
   },
   "outputs": [],
   "source": [
    "## plotting a model\n",
    "plot_model(iforest)"
   ]
  },
  {
   "cell_type": "code",
   "execution_count": null,
   "metadata": {},
   "outputs": [],
   "source": [
    "## creating a model\n",
    "knn=create_model('knn')"
   ]
  },
  {
   "cell_type": "code",
   "execution_count": null,
   "metadata": {},
   "outputs": [],
   "source": [
    "## plotting a model\n",
    "plot_model(knn)"
   ]
  },
  {
   "cell_type": "code",
   "execution_count": null,
   "metadata": {},
   "outputs": [],
   "source": [
    "# generate predictions using trained model\n",
    "knn_predictions = predict_model(knn, data = anomaly)"
   ]
  },
  {
   "cell_type": "code",
   "execution_count": null,
   "metadata": {},
   "outputs": [],
   "source": [
    "knn_predictions"
   ]
  },
  {
   "cell_type": "code",
   "execution_count": null,
   "metadata": {},
   "outputs": [],
   "source": []
  },
  {
   "cell_type": "code",
   "execution_count": null,
   "metadata": {},
   "outputs": [],
   "source": []
  }
 ],
 "metadata": {
  "kernelspec": {
   "display_name": "Python 3",
   "language": "python",
   "name": "python3"
  },
  "language_info": {
   "codemirror_mode": {
    "name": "ipython",
    "version": 3
   },
   "file_extension": ".py",
   "mimetype": "text/x-python",
   "name": "python",
   "nbconvert_exporter": "python",
   "pygments_lexer": "ipython3",
   "version": "3.8.8"
  }
 },
 "nbformat": 4,
 "nbformat_minor": 4
}
